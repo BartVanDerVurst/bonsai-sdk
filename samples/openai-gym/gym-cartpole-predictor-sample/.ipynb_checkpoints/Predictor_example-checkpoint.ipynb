{
 "cells": [
  {
   "cell_type": "code",
   "execution_count": 2,
   "metadata": {},
   "outputs": [
    {
     "name": "stdout",
     "output_type": "stream",
     "text": [
      "{'command': 1}\n"
     ]
    }
   ],
   "source": [
    "import sys\n",
    "from bonsai_ai import Brain, Config, Predictor\n",
    "\n",
    "name_of_brain = 'cartpole'\n",
    "config = Config(sys.argv)\n",
    "brain = Brain(config, name_of_brain)\n",
    "predictor = Predictor(brain,'cartpole_simulator')\n",
    "state = {'position': 0.0,\n",
    "         'velocity': 0.0,\n",
    "         'angle':    0.0,\n",
    "         'rotation': 0.0}\n",
    "\n",
    "print(predictor.get_action(state))"
   ]
  },
  {
   "cell_type": "code",
   "execution_count": null,
   "metadata": {},
   "outputs": [],
   "source": []
  }
 ],
 "metadata": {
  "kernelspec": {
   "display_name": "Python 3",
   "language": "python",
   "name": "python3"
  },
  "language_info": {
   "codemirror_mode": {
    "name": "ipython",
    "version": 3
   },
   "file_extension": ".py",
   "mimetype": "text/x-python",
   "name": "python",
   "nbconvert_exporter": "python",
   "pygments_lexer": "ipython3",
   "version": "3.6.4"
  }
 },
 "nbformat": 4,
 "nbformat_minor": 2
}
